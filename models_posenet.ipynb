{
  "nbformat": 4,
  "nbformat_minor": 0,
  "metadata": {
    "colab": {
      "name": "models_posenet.ipynb",
      "provenance": []
    },
    "kernelspec": {
      "name": "python3",
      "display_name": "Python 3"
    }
  },
  "cells": [
    {
      "cell_type": "markdown",
      "metadata": {
        "id": "Hc7IHMOG7Yp7",
        "colab_type": "text"
      },
      "source": [
        "Defining the entire posenet architecture.It uses modules from layers.py such as Conv,Residual and Hourglass modules to define a architecture."
      ]
    },
    {
      "cell_type": "code",
      "metadata": {
        "id": "FnG-l4WMMpyg",
        "colab_type": "code",
        "colab": {}
      },
      "source": [
        "import torch\n",
        "from torch import nn\n",
        "from models.layers import Conv, Hourglass, Pool, Residual\n",
        "from task.loss import HeatmapLoss"
      ],
      "execution_count": 0,
      "outputs": []
    },
    {
      "cell_type": "code",
      "metadata": {
        "id": "BpB1Po5aM9Br",
        "colab_type": "code",
        "colab": {}
      },
      "source": [
        "class UnFlatten(nn.Module):\n",
        "    def forward(self, input):\n",
        "        return input.view(-1, 256, 4, 4)"
      ],
      "execution_count": 0,
      "outputs": []
    },
    {
      "cell_type": "code",
      "metadata": {
        "id": "schuYOt6NIVf",
        "colab_type": "code",
        "colab": {}
      },
      "source": [
        "class Merge(nn.Module):\n",
        "    def __init__(self, x_dim, y_dim):\n",
        "        super(Merge, self).__init__()\n",
        "        self.conv = Conv(x_dim, y_dim, 1, relu=False, bn=False)\n",
        "\n",
        "    def forward(self, x):\n",
        "        return self.conv(x)"
      ],
      "execution_count": 0,
      "outputs": []
    },
    {
      "cell_type": "markdown",
      "metadata": {
        "id": "W6HLmvZDPied",
        "colab_type": "text"
      },
      "source": [
        "1)Here we bulid the entire model \"PoseNet\",which will later be called in the function make_network in task/pose.py\n",
        "\n",
        "2)nn.Sequential allows you to build a neural net by specifying sequentially the building blocks (nn.module) of a network.\n",
        "\n"
      ]
    },
    {
      "cell_type": "code",
      "metadata": {
        "id": "_kIQfQFgNZN5",
        "colab_type": "code",
        "colab": {}
      },
      "source": [
        "class PoseNet(nn.Module):\n",
        "    def __init__(self, nstack, inp_dim, oup_dim, bn=False, increase=0, **kwargs):\n",
        "        super(PoseNet, self).__init__()\n",
        "        \n",
        "        self.nstack = nstack\n",
        "        self.pre = nn.Sequential(\n",
        "            Conv(3, 64, 7, 2, bn=True, relu=True),\n",
        "            Residual(64, 128),\n",
        "            Pool(2, 2),\n",
        "            Residual(128, 128),\n",
        "            Residual(128, inp_dim)\n",
        "        )\n",
        "        \n",
        "        self.hgs = nn.ModuleList( [\n",
        "        nn.Sequential(\n",
        "            Hourglass(4, inp_dim, bn, increase),\n",
        "        ) for i in range(nstack)] )\n",
        "        \n",
        "        self.features = nn.ModuleList( [\n",
        "        nn.Sequential(\n",
        "            Residual(inp_dim, inp_dim),\n",
        "            Conv(inp_dim, inp_dim, 1, bn=True, relu=True)\n",
        "        ) for i in range(nstack)] )\n",
        "        \n",
        "        self.outs = nn.ModuleList( [Conv(inp_dim, oup_dim, 1, relu=False, bn=False) for i in range(nstack)] )\n",
        "        self.merge_features = nn.ModuleList( [Merge(inp_dim, inp_dim) for i in range(nstack-1)] )\n",
        "        self.merge_preds = nn.ModuleList( [Merge(oup_dim, inp_dim) for i in range(nstack-1)] )\n",
        "        self.nstack = nstack\n",
        "        self.heatmapLoss = HeatmapLoss()\n",
        "\n",
        "    def forward(self, imgs):\n",
        "        ## our posenet\n",
        "        x = imgs.permute(0, 3, 1, 2) #x of size 1,3,inpdim,inpdim\n",
        "        x = self.pre(x)\n",
        "        combined_hm_preds = []\n",
        "        for i in range(self.nstack):\n",
        "            hg = self.hgs[i](x)\n",
        "            feature = self.features[i](hg)\n",
        "            preds = self.outs[i](feature)\n",
        "            combined_hm_preds.append(preds)\n",
        "            if i < self.nstack - 1:\n",
        "                x = x + self.merge_preds[i](preds) + self.merge_features[i](feature)\n",
        "        return torch.stack(combined_hm_preds, 1)\n",
        "\n",
        "    #The same ground truth image is used to calculate the loss from different hourglass networks.The function HeatMapLoss is defined in task/loss.py \n",
        "    def calc_loss(self, combined_hm_preds, heatmaps):\n",
        "        combined_loss = []\n",
        "        for i in range(self.nstack):\n",
        "            combined_loss.append(self.heatmapLoss(combined_hm_preds[0][:,i], heatmaps))\n",
        "        combined_loss = torch.stack(combined_loss, dim=1)\n",
        "        return combined_loss"
      ],
      "execution_count": 0,
      "outputs": []
    }
  ]
}