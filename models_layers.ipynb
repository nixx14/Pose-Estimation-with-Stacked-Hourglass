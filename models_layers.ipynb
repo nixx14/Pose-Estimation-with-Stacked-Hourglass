{
  "nbformat": 4,
  "nbformat_minor": 0,
  "metadata": {
    "colab": {
      "name": "models_layers.ipynb",
      "provenance": []
    },
    "kernelspec": {
      "name": "python3",
      "display_name": "Python 3"
    }
  },
  "cells": [
    {
      "cell_type": "markdown",
      "metadata": {
        "id": "kw-Dvb42qnMG",
        "colab_type": "text"
      },
      "source": [
        "###Import necessary packages\n",
        "\n",
        "We need to import the torch.nn package from pytorch because here we aim to create a Neural Network(1 Hourglass ) by combining various layers  \n",
        "\n"
      ]
    },
    {
      "cell_type": "code",
      "metadata": {
        "id": "F5vCpvOOqnzd",
        "colab_type": "code",
        "colab": {}
      },
      "source": [
        "import torch\n",
        "from torch import nn"
      ],
      "execution_count": 0,
      "outputs": []
    },
    {
      "cell_type": "code",
      "metadata": {
        "id": "Jn-jh9k-tjZ5",
        "colab_type": "code",
        "colab": {}
      },
      "source": [
        "Pool = nn.MaxPool2d"
      ],
      "execution_count": 0,
      "outputs": []
    },
    {
      "cell_type": "markdown",
      "metadata": {
        "id": "hekd01ejv6pX",
        "colab_type": "text"
      },
      "source": [
        "This function returns a layer which  applies batchnormalisation to  a 4D input(x =C from input of size[N,C,H,W]).Batch normalization normalizes the output of a previous activation layer by subtracting the batch mean and dividing by the batch standard deviation across each channel"
      ]
    },
    {
      "cell_type": "code",
      "metadata": {
        "id": "AhxGR7Qgt_gW",
        "colab_type": "code",
        "colab": {}
      },
      "source": [
        "def batchnorm(x):\n",
        "    return nn.BatchNorm2d(x.size()[1])(x)"
      ],
      "execution_count": 0,
      "outputs": []
    },
    {
      "cell_type": "markdown",
      "metadata": {
        "id": "fnvKB8DRw7dA",
        "colab_type": "text"
      },
      "source": [
        "We know the aim of the stacked hour glass is to perform repeated topdown-bottomup inferences.This next neural network module applies a single convolution layer(for bottom-up i.e. extracting spatial features while going from higher reolution to lower resolution) to the input batch,along with relu activation and batchnormalisation layer if needed(specified in the class arguments).This module is used to create other modules like residual modules\n",
        "\n",
        "inp_dim=number of channels in the input layer\n",
        "out_dim=number of channels in the output layer\n"
      ]
    },
    {
      "cell_type": "code",
      "metadata": {
        "id": "1J54s4Z3uBdZ",
        "colab_type": "code",
        "colab": {}
      },
      "source": [
        "class Conv(nn.Module):\n",
        "    def __init__(self, inp_dim, out_dim, kernel_size=3, stride = 1, bn = False, relu = True):\n",
        "        super(Conv, self).__init__()\n",
        "        self.inp_dim = inp_dim\n",
        "        self.conv = nn.Conv2d(inp_dim, out_dim, kernel_size, stride, padding=(kernel_size-1)//2, bias=True)\n",
        "        self.relu = None\n",
        "        self.bn = None\n",
        "        if relu:\n",
        "            self.relu = nn.ReLU()\n",
        "        if bn:\n",
        "            self.bn = nn.BatchNorm2d(out_dim)\n",
        "\n",
        "    def forward(self, x):\n",
        "        assert x.size()[1] == self.inp_dim, \"{} {}\".format(x.size()[1], self.inp_dim)\n",
        "        x = self.conv(x)\n",
        "        if self.bn is not None:\n",
        "            x = self.bn(x)\n",
        "        if self.relu is not None:\n",
        "            x = self.relu(x)\n",
        "        return x"
      ],
      "execution_count": 0,
      "outputs": []
    },
    {
      "cell_type": "markdown",
      "metadata": {
        "id": "ypz8Ju56rvkX",
        "colab_type": "text"
      },
      "source": [
        "1)As explained in the documentation,a residual module is an important part of the hourglass network.One box in the first figure corresponds to one residual module.\n",
        "\n",
        "2)This network applies (batch-normalisation -> relu ->Convolution layer) 3 times to the input.\n",
        "\n",
        "3)It also includes a skip connection which just means passing the output of one layer to the one further down.Hence,if inp_dim is not equal to the output dimension we use a skip layer and add the input x to the final output of Residual network.Skip layer is used to make the output from the Residual module equal to have same dime"
      ]
    },
    {
      "cell_type": "code",
      "metadata": {
        "id": "2g94n1DyyTlR",
        "colab_type": "code",
        "colab": {}
      },
      "source": [
        "class Residual(nn.Module):\n",
        "    def __init__(self, inp_dim, out_dim):\n",
        "        super(Residual, self).__init__()\n",
        "        self.relu = nn.ReLU()\n",
        "        self.bn1 = nn.BatchNorm2d(inp_dim)\n",
        "        self.conv1 = Conv(inp_dim, int(out_dim/2), 1, relu=False)\n",
        "        self.bn2 = nn.BatchNorm2d(int(out_dim/2))\n",
        "        self.conv2 = Conv(int(out_dim/2), int(out_dim/2), 3, relu=False)\n",
        "        self.bn3 = nn.BatchNorm2d(int(out_dim/2))\n",
        "        self.conv3 = Conv(int(out_dim/2), out_dim, 1, relu=False)\n",
        "        self.skip_layer = Conv(inp_dim, out_dim, 1, relu=False)\n",
        "        if inp_dim == out_dim:\n",
        "            self.need_skip = False\n",
        "        else:\n",
        "            self.need_skip = True\n",
        "        \n",
        "    def forward(self, x):\n",
        "        if self.need_skip:\n",
        "            residual = self.skip_layer(x)\n",
        "        else:\n",
        "            residual = x\n",
        "        out = self.bn1(x)\n",
        "        out = self.relu(out)\n",
        "        out = self.conv1(out)\n",
        "        out = self.bn2(out)\n",
        "        out = self.relu(out)\n",
        "        out = self.conv2(out)\n",
        "        out = self.bn3(out)\n",
        "        out = self.relu(out)\n",
        "        out = self.conv3(out)\n",
        "        out += residual\n",
        "        return out \n"
      ],
      "execution_count": 0,
      "outputs": []
    },
    {
      "cell_type": "markdown",
      "metadata": {
        "id": "sYXc9_iERwyN",
        "colab_type": "text"
      },
      "source": [
        "This Hourglass module aims to employ 1 hourglass,with the help of Residual and convolutions modules.Upsampling is done by the 'up2' to a scale factor of 2, i.e it doubles the spatial dimensions of the input image.using the mode nearest neighbour upsampling."
      ]
    },
    {
      "cell_type": "code",
      "metadata": {
        "id": "rf4gf1Pz1ohn",
        "colab_type": "code",
        "colab": {
          "base_uri": "https://localhost:8080/",
          "height": 229
        },
        "outputId": "03897623-899e-4272-e8d8-ed4abbca3046"
      },
      "source": [
        "class Hourglass(nn.Module):\n",
        "    def __init__(self, n, f, bn=None, increase=0):\n",
        "        super(Hourglass, self).__init__()\n",
        "        nf = f + increase\n",
        "        self.up1 = Residual(f, f)\n",
        "        # Lower branch\n",
        "        self.pool1 = Pool(2, 2)\n",
        "        self.low1 = Residual(f, nf)\n",
        "        self.n = n\n",
        "        # Recursive hourglass\n",
        "        if self.n > 1:\n",
        "            self.low2 = Hourglass(n-1, nf, bn=bn)\n",
        "        else:\n",
        "            self.low2 = Residual(nf, nf)\n",
        "        self.low3 = Residual(nf, f)\n",
        "        self.up2 = nn.Upsample(scale_factor=2, mode='nearest')\n",
        "\n",
        "    def forward(self, x):\n",
        "        up1  = self.up1(x)\n",
        "        pool1 = self.pool1(x)\n",
        "        low1 = self.low1(pool1)\n",
        "        low2 = self.low2(low1)\n",
        "        low3 = self.low3(low2)\n",
        "        up2  = self.up2(low3)\n",
        "        return up1 + up2"
      ],
      "execution_count": 1,
      "outputs": [
        {
          "output_type": "error",
          "ename": "NameError",
          "evalue": "ignored",
          "traceback": [
            "\u001b[0;31m---------------------------------------------------------------------------\u001b[0m",
            "\u001b[0;31mNameError\u001b[0m                                 Traceback (most recent call last)",
            "\u001b[0;32m<ipython-input-1-b9b0f0c92890>\u001b[0m in \u001b[0;36m<module>\u001b[0;34m()\u001b[0m\n\u001b[0;32m----> 1\u001b[0;31m \u001b[0;32mclass\u001b[0m \u001b[0mHourglass\u001b[0m\u001b[0;34m(\u001b[0m\u001b[0mnn\u001b[0m\u001b[0;34m.\u001b[0m\u001b[0mModule\u001b[0m\u001b[0;34m)\u001b[0m\u001b[0;34m:\u001b[0m\u001b[0;34m\u001b[0m\u001b[0;34m\u001b[0m\u001b[0m\n\u001b[0m\u001b[1;32m      2\u001b[0m     \u001b[0;32mdef\u001b[0m \u001b[0m__init__\u001b[0m\u001b[0;34m(\u001b[0m\u001b[0mself\u001b[0m\u001b[0;34m,\u001b[0m \u001b[0mn\u001b[0m\u001b[0;34m,\u001b[0m \u001b[0mf\u001b[0m\u001b[0;34m,\u001b[0m \u001b[0mbn\u001b[0m\u001b[0;34m=\u001b[0m\u001b[0;32mNone\u001b[0m\u001b[0;34m,\u001b[0m \u001b[0mincrease\u001b[0m\u001b[0;34m=\u001b[0m\u001b[0;36m0\u001b[0m\u001b[0;34m)\u001b[0m\u001b[0;34m:\u001b[0m\u001b[0;34m\u001b[0m\u001b[0;34m\u001b[0m\u001b[0m\n\u001b[1;32m      3\u001b[0m         \u001b[0msuper\u001b[0m\u001b[0;34m(\u001b[0m\u001b[0mHourglass\u001b[0m\u001b[0;34m,\u001b[0m \u001b[0mself\u001b[0m\u001b[0;34m)\u001b[0m\u001b[0;34m.\u001b[0m\u001b[0m__init__\u001b[0m\u001b[0;34m(\u001b[0m\u001b[0;34m)\u001b[0m\u001b[0;34m\u001b[0m\u001b[0;34m\u001b[0m\u001b[0m\n\u001b[1;32m      4\u001b[0m         \u001b[0mnf\u001b[0m \u001b[0;34m=\u001b[0m \u001b[0mf\u001b[0m \u001b[0;34m+\u001b[0m \u001b[0mincrease\u001b[0m\u001b[0;34m\u001b[0m\u001b[0;34m\u001b[0m\u001b[0m\n\u001b[1;32m      5\u001b[0m         \u001b[0mself\u001b[0m\u001b[0;34m.\u001b[0m\u001b[0mup1\u001b[0m \u001b[0;34m=\u001b[0m \u001b[0mResidual\u001b[0m\u001b[0;34m(\u001b[0m\u001b[0mf\u001b[0m\u001b[0;34m,\u001b[0m \u001b[0mf\u001b[0m\u001b[0;34m)\u001b[0m\u001b[0;34m\u001b[0m\u001b[0;34m\u001b[0m\u001b[0m\n",
            "\u001b[0;31mNameError\u001b[0m: name 'nn' is not defined"
          ]
        }
      ]
    },
    {
      "cell_type": "code",
      "metadata": {
        "id": "fGmDeGss1xwE",
        "colab_type": "code",
        "colab": {}
      },
      "source": [
        ""
      ],
      "execution_count": 0,
      "outputs": []
    }
  ]
}